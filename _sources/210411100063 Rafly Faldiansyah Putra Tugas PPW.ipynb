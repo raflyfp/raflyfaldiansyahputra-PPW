{
 "cells": [
  {
   "cell_type": "markdown",
   "id": "14136d7a",
   "metadata": {},
   "source": [
    "# Crawling Website\n",
    "\n",
    "Rafly Faldiansyah Putra\n",
    "\n",
    "210411100063"
   ]
  },
  {
   "cell_type": "markdown",
   "id": "ba5fb007",
   "metadata": {},
   "source": [
    "### Pengertian Crawling\n",
    "\n",
    "Crawling data adalah proses pengambilan data secara otomatis dari website oleh mesin pencari. Ketika mesin pencari mengunjungi suatu website, ia akan mengikuti semua tautan yang ada di halaman tersebut dan mengambil informasi dari setiap halaman yang dikunjungi. Hasilnya, mesin pencari akan memiliki indeks data yang sangat besar yang dapat digunakan untuk menyajikan hasil informasi data yang dibutuhkan.\n"
   ]
  },
  {
   "cell_type": "code",
   "execution_count": null,
   "id": "0ffe0154",
   "metadata": {},
   "outputs": [],
   "source": [
    "!pip install requests beautifulsoup4 pandas\n",
    "\n",
    "#install library untuk mengambil konten di dalam website"
   ]
  },
  {
   "cell_type": "markdown",
   "id": "366ea652",
   "metadata": {},
   "source": [
    "### 1. Melakukan import library yang dibutuhkan"
   ]
  },
  {
   "cell_type": "code",
   "execution_count": 1,
   "id": "77da8a6b",
   "metadata": {},
   "outputs": [],
   "source": [
    "import requests\n",
    "from bs4 import BeautifulSoup\n",
    "import pandas as pd\n"
   ]
  },
  {
   "cell_type": "markdown",
   "id": "5b1cf078",
   "metadata": {},
   "source": [
    "requests: Digunakan untuk melakukan HTTP request ke sebuah URL dan mendapatkan konten halaman web.\n",
    "\n",
    "BeautifulSoup: Digunakan untuk mem-parsing HTML dan mengekstrak data dari halaman web.\n",
    "\n",
    "pandas: Digunakan untuk mengolah data dan menyimpan hasil ekstraksi ke dalam bentuk DataFrame."
   ]
  },
  {
   "cell_type": "markdown",
   "id": "398ac811",
   "metadata": {},
   "source": [
    "### 2. Mengambil Halaman Website dan Memeriksa status request"
   ]
  },
  {
   "cell_type": "code",
   "execution_count": 2,
   "id": "2139de0d",
   "metadata": {},
   "outputs": [
    {
     "name": "stdout",
     "output_type": "stream",
     "text": [
      "Request berhasil!\n"
     ]
    }
   ],
   "source": [
    "url = 'https://jatim.tribunnews.com/'\n",
    "response = requests.get(url)\n",
    "\n",
    "# Periksa apakah request berhasil\n",
    "if response.status_code == 200:\n",
    "    print(\"Request berhasil!\")\n",
    "    page_content = response.content\n",
    "else:\n",
    "    print(f\"Gagal mengambil halaman, status code: {response.status_code}\")\n",
    "\n",
    "# Parsing HTML\n",
    "soup = BeautifulSoup(page_content, 'html.parser')\n"
   ]
  },
  {
   "cell_type": "markdown",
   "id": "1a3f2786",
   "metadata": {},
   "source": [
    "### 3. Menemukan dan Mengekstrak 10 Berita"
   ]
  },
  {
   "cell_type": "code",
   "execution_count": 3,
   "id": "29acd3ef",
   "metadata": {},
   "outputs": [
    {
     "data": {
      "text/plain": [
       "['https://jatim.tribunnews.com/2024/09/04/arti-kata-bokem-dalam-bahasa-gaul-istilah-populer-di-media-sosial-ada-kaitannya-dengan-karakter',\n",
       " 'https://jatim.tribunnews.com/2024/09/04/disambut-ratusan-santri-di-jombang-risma-mengaku-senang-dan-bahagia',\n",
       " 'https://jatim.tribunnews.com/2024/09/04/ziarahi-makam-pendiri-nu-di-tebuireng-jombang-risma-saya-memang-bagian-dari-keluarga',\n",
       " 'https://jatim.tribunnews.com/2024/09/04/jelang-pilgub-jatim-2024-risma-gus-hans-nyekar-makam-bung-karno-dan-tokoh-ulama',\n",
       " 'https://jatim.tribunnews.com/2024/09/04/kondisi-jalan-kaligede-tempursari-terputus-pemkab-lumajang-beber-sebabnya-air-laut-tinggi',\n",
       " 'https://jatim.tribunnews.com/2024/09/04/bmkg-nilai-musim-kemarau-2024-tak-wajar-imbasnya-di-bojonegoro-masuki-kekeringan-ekstrem-krisis',\n",
       " 'https://jatim.tribunnews.com/2024/09/04/update-pencarian-pria-yang-menceburkan-diri-ke-sungai-jagir-surabaya-petugas-terkendala-air-pasang',\n",
       " 'https://jatim.tribunnews.com/2024/09/02/air-mata-haru-1-aula-lihat-yeni-digendong-ayah-terima-ijazah-dari-rektor-sempat-terancam-tak-wisuda?utm_source=topstories',\n",
       " 'https://jatim.tribunnews.com/2024/09/02/pihak-grab-langsung-temui-owner-kafe-usai-driver-ojol-hina-pegawai-disabilitas-nasib-tak-tertolong?utm_source=topstories',\n",
       " 'https://jatim.tribunnews.com/2024/09/01/tak-tahu-tika-yang-dilamar-di-stadion-sudah-punya-suami-gilang-kini-minta-maaf-saya-khilaf?utm_source=topstories']"
      ]
     },
     "execution_count": 3,
     "metadata": {},
     "output_type": "execute_result"
    }
   ],
   "source": [
    "# Cari semua <h3> yang mengandung <a>\n",
    "articles = soup.find_all('h3')\n",
    "\n",
    "# Ekstrak URL dari <a> di dalam <h3> dan simpan dalam list\n",
    "urls = [article.find('a')['href'] for article in articles if article.find('a')][:10]\n",
    "\n",
    "# Tampilkan 10 URL berita yang ditemukan\n",
    "urls\n"
   ]
  },
  {
   "cell_type": "markdown",
   "id": "2745f75a",
   "metadata": {},
   "source": [
    "### 4. Mengambil data dari setiap artikel berita"
   ]
  },
  {
   "cell_type": "code",
   "execution_count": 4,
   "id": "a228f8b3",
   "metadata": {},
   "outputs": [],
   "source": [
    "data_list = []\n",
    "\n",
    "for i, url in enumerate(urls, start=1):\n",
    "    response = requests.get(url)\n",
    "    soup = BeautifulSoup(response.content, 'html.parser')\n",
    "    \n",
    "    # Mendapatkan judul\n",
    "    judul = soup.find('h1').text.strip()\n",
    "\n",
    "    # Mendapatkan tanggal\n",
    "    tanggal = soup.find('time').text.strip()\n",
    "\n",
    "    # Mendapatkan isi artikel\n",
    "    isi = ' '.join(p.text.strip() for p in soup.find_all('p'))\n",
    "    \n",
    "    # Mencari breadcrumb\n",
    "    breadcrumb = soup.find('ul', {'class': 'breadcrumb'})\n",
    "\n",
    "    # Mengambil kategori terakhir dari breadcrumb\n",
    "    kategori = breadcrumb.find_all('li')[-1].find('span').text.strip()\n",
    "    \n",
    "    # Simpan data ke dalam list\n",
    "    data_list.append({\n",
    "        'No': i,\n",
    "        'Judul Berita': judul,\n",
    "        'Tanggal Berita': tanggal,\n",
    "        'Kategori Berita': kategori,\n",
    "        'Isi Berita': isi,\n",
    "        'URL': url\n",
    "    })\n",
    "\n"
   ]
  },
  {
   "cell_type": "markdown",
   "id": "13d3fc7c",
   "metadata": {},
   "source": [
    "data_list: List untuk menyimpan data dari setiap artikel berita.\n",
    "\n",
    "for i, url in enumerate(urls, start=1): Looping untuk setiap URL yang ditemukan, di mana i adalah index mulai dari 1.\n",
    "\n",
    "requests.get(url): Mengambil konten halaman dari URL artikel.\n",
    "\n",
    "judul = soup.find('h1').text.strip(): Menemukan judul berita di dalam elemen h1.\n",
    "    \n",
    "tanggal = soup.find('time').text.strip(): Menemukan tanggal berita di dalam elemen time.\n",
    "    \n",
    "isi = ' '.join(p.text.strip() for p in soup.find_all('p')): Menggabungkan semua paragraf <p> di dalam artikel untuk mendapatkan isi berita.\n",
    "    \n",
    "breadcrumb = soup.find('ul', {'class': 'breadcrumb'}): Mencari elemen breadcrumb untuk menemukan kategori berita.\n",
    "    \n",
    "kategori = breadcrumb.find_all('li')[-1].find('span').text.strip(): Mengambil kategori terakhir dalam breadcrumb.\n",
    "    \n",
    "data_list.append({...}): Menyimpan data yang telah diekstrak ke dalam list data_list."
   ]
  },
  {
   "cell_type": "markdown",
   "id": "a3063d06",
   "metadata": {},
   "source": [
    "### 5. Menampilkan data yang di crowling ke dalam tabel"
   ]
  },
  {
   "cell_type": "code",
   "execution_count": 8,
   "id": "d7309672",
   "metadata": {},
   "outputs": [
    {
     "data": {
      "text/html": [
       "<div>\n",
       "<style scoped>\n",
       "    .dataframe tbody tr th:only-of-type {\n",
       "        vertical-align: middle;\n",
       "    }\n",
       "\n",
       "    .dataframe tbody tr th {\n",
       "        vertical-align: top;\n",
       "    }\n",
       "\n",
       "    .dataframe thead th {\n",
       "        text-align: right;\n",
       "    }\n",
       "</style>\n",
       "<table border=\"1\" class=\"dataframe\">\n",
       "  <thead>\n",
       "    <tr style=\"text-align: right;\">\n",
       "      <th></th>\n",
       "      <th>No</th>\n",
       "      <th>Judul Berita</th>\n",
       "      <th>Tanggal Berita</th>\n",
       "      <th>Kategori Berita</th>\n",
       "      <th>Isi Berita</th>\n",
       "      <th>URL</th>\n",
       "    </tr>\n",
       "  </thead>\n",
       "  <tbody>\n",
       "    <tr>\n",
       "      <th>0</th>\n",
       "      <td>1</td>\n",
       "      <td>Arti Kata Bokem dalam Bahasa Gaul, Istilah Pop...</td>\n",
       "      <td>Tayang: Rabu, 4 September 2024 22:48 WIB</td>\n",
       "      <td>Lainnya</td>\n",
       "      <td>TRIBUNJATIM.COM - Tribunners kali ini kita aka...</td>\n",
       "      <td>https://jatim.tribunnews.com/2024/09/04/arti-k...</td>\n",
       "    </tr>\n",
       "    <tr>\n",
       "      <th>1</th>\n",
       "      <td>2</td>\n",
       "      <td>Disambut Ratusan Santri di Jombang, Risma Meng...</td>\n",
       "      <td>Tayang: Rabu, 4 September 2024 22:25 WIB</td>\n",
       "      <td>Pilkada</td>\n",
       "      <td>TRIBUNJATIM.COM, JOMBANG - Bakal Calon Gubernu...</td>\n",
       "      <td>https://jatim.tribunnews.com/2024/09/04/disamb...</td>\n",
       "    </tr>\n",
       "    <tr>\n",
       "      <th>2</th>\n",
       "      <td>3</td>\n",
       "      <td>Ziarahi Makam Pendiri NU di Tebuireng Jombang,...</td>\n",
       "      <td>Tayang: Rabu, 4 September 2024 22:16 WIB</td>\n",
       "      <td>Pilkada</td>\n",
       "      <td>TRIBUNJATIM.COM, JOMBANG - Calon Gubernur Jawa...</td>\n",
       "      <td>https://jatim.tribunnews.com/2024/09/04/ziarah...</td>\n",
       "    </tr>\n",
       "    <tr>\n",
       "      <th>3</th>\n",
       "      <td>4</td>\n",
       "      <td>Jelang Pilgub Jatim 2024, Risma-Gus Hans Nyeka...</td>\n",
       "      <td>Tayang: Rabu, 4 September 2024 22:07 WIB</td>\n",
       "      <td>Pilkada</td>\n",
       "      <td>TRIBUNJATIM.COM, BLITAR - Jelang Pilgub 2024, ...</td>\n",
       "      <td>https://jatim.tribunnews.com/2024/09/04/jelang...</td>\n",
       "    </tr>\n",
       "    <tr>\n",
       "      <th>4</th>\n",
       "      <td>5</td>\n",
       "      <td>Kondisi Jalan Kaligede Tempursari Terputus, Pe...</td>\n",
       "      <td>Tayang: Rabu, 4 September 2024 21:59 WIB</td>\n",
       "      <td>Jatim</td>\n",
       "      <td>Laporan Wartawan Tribun Jatim Network, Erwin W...</td>\n",
       "      <td>https://jatim.tribunnews.com/2024/09/04/kondis...</td>\n",
       "    </tr>\n",
       "    <tr>\n",
       "      <th>5</th>\n",
       "      <td>6</td>\n",
       "      <td>BMKG Nilai Musim Kemarau 2024 Tak Wajar, Imbas...</td>\n",
       "      <td>Tayang: Rabu, 4 September 2024 21:40 WIB</td>\n",
       "      <td>Bojonegoro</td>\n",
       "      <td>Laporan Wartawan Tribun Jatim Network, Yusab A...</td>\n",
       "      <td>https://jatim.tribunnews.com/2024/09/04/bmkg-n...</td>\n",
       "    </tr>\n",
       "    <tr>\n",
       "      <th>6</th>\n",
       "      <td>7</td>\n",
       "      <td>Update Pencarian Pria yang Menceburkan Diri ke...</td>\n",
       "      <td>Tayang: Rabu, 4 September 2024 21:34 WIB</td>\n",
       "      <td>Metro Surabaya</td>\n",
       "      <td>Laporan Wartawan TribunJatim.com, Luhur Pambud...</td>\n",
       "      <td>https://jatim.tribunnews.com/2024/09/04/update...</td>\n",
       "    </tr>\n",
       "    <tr>\n",
       "      <th>7</th>\n",
       "      <td>8</td>\n",
       "      <td>Air Mata Haru 1 Aula Lihat Yeni Digendong Ayah...</td>\n",
       "      <td>Tayang: Senin, 2 September 2024 11:20 WIB</td>\n",
       "      <td>Nasional</td>\n",
       "      <td>TRIBUNJATIM.COM - Beginilah momen Yeni digendo...</td>\n",
       "      <td>https://jatim.tribunnews.com/2024/09/02/air-ma...</td>\n",
       "    </tr>\n",
       "    <tr>\n",
       "      <th>8</th>\n",
       "      <td>9</td>\n",
       "      <td>Pihak Grab Langsung Temui Owner Kafe usai Driv...</td>\n",
       "      <td>Tayang: Senin, 2 September 2024 19:03 WIB</td>\n",
       "      <td>Regional</td>\n",
       "      <td>TRIBUNJATIM.COM - Disoroti karena mitra driver...</td>\n",
       "      <td>https://jatim.tribunnews.com/2024/09/02/pihak-...</td>\n",
       "    </tr>\n",
       "    <tr>\n",
       "      <th>9</th>\n",
       "      <td>10</td>\n",
       "      <td>Tak Tahu Tika yang Dilamar di Stadion Sudah Pu...</td>\n",
       "      <td>Tayang: Minggu, 1 September 2024 18:11 WIB</td>\n",
       "      <td>Regional</td>\n",
       "      <td>TRIBUNJATIM.COM - Pede lamar istri orang di St...</td>\n",
       "      <td>https://jatim.tribunnews.com/2024/09/01/tak-ta...</td>\n",
       "    </tr>\n",
       "  </tbody>\n",
       "</table>\n",
       "</div>"
      ],
      "text/plain": [
       "   No                                       Judul Berita  \\\n",
       "0   1  Arti Kata Bokem dalam Bahasa Gaul, Istilah Pop...   \n",
       "1   2  Disambut Ratusan Santri di Jombang, Risma Meng...   \n",
       "2   3  Ziarahi Makam Pendiri NU di Tebuireng Jombang,...   \n",
       "3   4  Jelang Pilgub Jatim 2024, Risma-Gus Hans Nyeka...   \n",
       "4   5  Kondisi Jalan Kaligede Tempursari Terputus, Pe...   \n",
       "5   6  BMKG Nilai Musim Kemarau 2024 Tak Wajar, Imbas...   \n",
       "6   7  Update Pencarian Pria yang Menceburkan Diri ke...   \n",
       "7   8  Air Mata Haru 1 Aula Lihat Yeni Digendong Ayah...   \n",
       "8   9  Pihak Grab Langsung Temui Owner Kafe usai Driv...   \n",
       "9  10  Tak Tahu Tika yang Dilamar di Stadion Sudah Pu...   \n",
       "\n",
       "                               Tanggal Berita Kategori Berita  \\\n",
       "0    Tayang: Rabu, 4 September 2024 22:48 WIB         Lainnya   \n",
       "1    Tayang: Rabu, 4 September 2024 22:25 WIB         Pilkada   \n",
       "2    Tayang: Rabu, 4 September 2024 22:16 WIB         Pilkada   \n",
       "3    Tayang: Rabu, 4 September 2024 22:07 WIB         Pilkada   \n",
       "4    Tayang: Rabu, 4 September 2024 21:59 WIB           Jatim   \n",
       "5    Tayang: Rabu, 4 September 2024 21:40 WIB      Bojonegoro   \n",
       "6    Tayang: Rabu, 4 September 2024 21:34 WIB  Metro Surabaya   \n",
       "7   Tayang: Senin, 2 September 2024 11:20 WIB        Nasional   \n",
       "8   Tayang: Senin, 2 September 2024 19:03 WIB        Regional   \n",
       "9  Tayang: Minggu, 1 September 2024 18:11 WIB        Regional   \n",
       "\n",
       "                                          Isi Berita  \\\n",
       "0  TRIBUNJATIM.COM - Tribunners kali ini kita aka...   \n",
       "1  TRIBUNJATIM.COM, JOMBANG - Bakal Calon Gubernu...   \n",
       "2  TRIBUNJATIM.COM, JOMBANG - Calon Gubernur Jawa...   \n",
       "3  TRIBUNJATIM.COM, BLITAR - Jelang Pilgub 2024, ...   \n",
       "4  Laporan Wartawan Tribun Jatim Network, Erwin W...   \n",
       "5  Laporan Wartawan Tribun Jatim Network, Yusab A...   \n",
       "6  Laporan Wartawan TribunJatim.com, Luhur Pambud...   \n",
       "7  TRIBUNJATIM.COM - Beginilah momen Yeni digendo...   \n",
       "8  TRIBUNJATIM.COM - Disoroti karena mitra driver...   \n",
       "9  TRIBUNJATIM.COM - Pede lamar istri orang di St...   \n",
       "\n",
       "                                                 URL  \n",
       "0  https://jatim.tribunnews.com/2024/09/04/arti-k...  \n",
       "1  https://jatim.tribunnews.com/2024/09/04/disamb...  \n",
       "2  https://jatim.tribunnews.com/2024/09/04/ziarah...  \n",
       "3  https://jatim.tribunnews.com/2024/09/04/jelang...  \n",
       "4  https://jatim.tribunnews.com/2024/09/04/kondis...  \n",
       "5  https://jatim.tribunnews.com/2024/09/04/bmkg-n...  \n",
       "6  https://jatim.tribunnews.com/2024/09/04/update...  \n",
       "7  https://jatim.tribunnews.com/2024/09/02/air-ma...  \n",
       "8  https://jatim.tribunnews.com/2024/09/02/pihak-...  \n",
       "9  https://jatim.tribunnews.com/2024/09/01/tak-ta...  "
      ]
     },
     "execution_count": 8,
     "metadata": {},
     "output_type": "execute_result"
    }
   ],
   "source": [
    "# Konversi ke DataFrame\n",
    "df = pd.DataFrame(data_list)\n",
    "\n",
    "# Tampilkan tabel\n",
    "df"
   ]
  },
  {
   "cell_type": "code",
   "execution_count": null,
   "id": "cbbccfc3",
   "metadata": {},
   "outputs": [],
   "source": []
  }
 ],
 "metadata": {
  "kernelspec": {
   "display_name": "Python 3 (ipykernel)",
   "language": "python",
   "name": "python3"
  },
  "language_info": {
   "codemirror_mode": {
    "name": "ipython",
    "version": 3
   },
   "file_extension": ".py",
   "mimetype": "text/x-python",
   "name": "python",
   "nbconvert_exporter": "python",
   "pygments_lexer": "ipython3",
   "version": "3.11.2"
  }
 },
 "nbformat": 4,
 "nbformat_minor": 5
}
